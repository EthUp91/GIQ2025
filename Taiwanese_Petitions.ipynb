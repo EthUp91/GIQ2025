{
 "cells": [
  {
   "cell_type": "code",
   "execution_count": 1,
   "id": "6a531c51-6372-4742-bbc9-bc9c8c25b22e",
   "metadata": {},
   "outputs": [
    {
     "data": {
      "text/html": [
       "<div>\n",
       "<style scoped>\n",
       "    .dataframe tbody tr th:only-of-type {\n",
       "        vertical-align: middle;\n",
       "    }\n",
       "\n",
       "    .dataframe tbody tr th {\n",
       "        vertical-align: top;\n",
       "    }\n",
       "\n",
       "    .dataframe thead th {\n",
       "        text-align: right;\n",
       "    }\n",
       "</style>\n",
       "<table border=\"1\" class=\"dataframe\">\n",
       "  <thead>\n",
       "    <tr style=\"text-align: right;\">\n",
       "      <th></th>\n",
       "      <th>publishDate</th>\n",
       "      <th>網址</th>\n",
       "      <th>附議數量</th>\n",
       "      <th>content</th>\n",
       "      <th>權責機關</th>\n",
       "      <th>協辦單位</th>\n",
       "      <th>協辦單位2</th>\n",
       "    </tr>\n",
       "  </thead>\n",
       "  <tbody>\n",
       "    <tr>\n",
       "      <th>0</th>\n",
       "      <td>2015-09-10 13:26:19</td>\n",
       "      <td>https://join.gov.tw/idea/detail/25824c17-f141-...</td>\n",
       "      <td>22</td>\n",
       "      <td>Join 平台應提供匯出資料供批次下載\\n目前 Join 平台為方便機關人員作業，在後台有「...</td>\n",
       "      <td>國家發展委員會</td>\n",
       "      <td>NaN</td>\n",
       "      <td>NaN</td>\n",
       "    </tr>\n",
       "    <tr>\n",
       "      <th>1</th>\n",
       "      <td>2015-09-10 20:45:11</td>\n",
       "      <td>https://join.gov.tw/idea/detail/94b5dca9-57fc-...</td>\n",
       "      <td>2</td>\n",
       "      <td>都更的建議國家既然採多數決.為何總是被少數人綁架.都更常因釘子戶造成困擾.個人建議.國家要發...</td>\n",
       "      <td>內政部</td>\n",
       "      <td>NaN</td>\n",
       "      <td>NaN</td>\n",
       "    </tr>\n",
       "    <tr>\n",
       "      <th>2</th>\n",
       "      <td>2015-09-10 21:40:32</td>\n",
       "      <td>https://join.gov.tw/idea/detail/3bdab9bf-d874-...</td>\n",
       "      <td>184</td>\n",
       "      <td>引進鞭刑依先進國家如新加坡的刑法引進鞭刑讓重刑犯，強姦犯等重大罪犯得到應得的逞罰促進社會正義...</td>\n",
       "      <td>法務部</td>\n",
       "      <td>NaN</td>\n",
       "      <td>NaN</td>\n",
       "    </tr>\n",
       "    <tr>\n",
       "      <th>3</th>\n",
       "      <td>2015-09-11 00:46:34</td>\n",
       "      <td>https://join.gov.tw/idea/detail/41d9ffb1-21f3-...</td>\n",
       "      <td>10</td>\n",
       "      <td>提高機車駕照取照標準並予以分類凡國民在年滿16歲後,可以申請並考取\"電動機車\"駕照.\\n在連...</td>\n",
       "      <td>交通部</td>\n",
       "      <td>經濟部</td>\n",
       "      <td>環境部</td>\n",
       "    </tr>\n",
       "    <tr>\n",
       "      <th>4</th>\n",
       "      <td>2015-09-12 02:23:57</td>\n",
       "      <td>https://join.gov.tw/idea/detail/87354c05-f36e-...</td>\n",
       "      <td>52</td>\n",
       "      <td>敬請具體實踐中華民國憲法第143條：中華民國領土內之土地屬於國民全體。中華民國公有土地，兩則...</td>\n",
       "      <td>內政部</td>\n",
       "      <td>財政部</td>\n",
       "      <td>NaN</td>\n",
       "    </tr>\n",
       "    <tr>\n",
       "      <th>...</th>\n",
       "      <td>...</td>\n",
       "      <td>...</td>\n",
       "      <td>...</td>\n",
       "      <td>...</td>\n",
       "      <td>...</td>\n",
       "      <td>...</td>\n",
       "      <td>...</td>\n",
       "    </tr>\n",
       "    <tr>\n",
       "      <th>653</th>\n",
       "      <td>2021-12-08 00:29:19</td>\n",
       "      <td>https://join.gov.tw/idea/detail/eb7440a1-332a-...</td>\n",
       "      <td>7083</td>\n",
       "      <td>恢復《交通管理處罰條例》民眾得舉發所有靜態違規現行《交通管理處罰條例》第 7-1 條明定，民...</td>\n",
       "      <td>交通部</td>\n",
       "      <td>內政部</td>\n",
       "      <td>NaN</td>\n",
       "    </tr>\n",
       "    <tr>\n",
       "      <th>654</th>\n",
       "      <td>2021-12-19 18:42:40</td>\n",
       "      <td>https://join.gov.tw/idea/detail/39a7b4ab-12af-...</td>\n",
       "      <td>5693</td>\n",
       "      <td>「搶救抱卵母蟹、保護漁業資源，要求農委會修改現行管制辦法，全年禁止捕撈抱卵母蟹」2021年十...</td>\n",
       "      <td>農業部</td>\n",
       "      <td>NaN</td>\n",
       "      <td>NaN</td>\n",
       "    </tr>\n",
       "    <tr>\n",
       "      <th>655</th>\n",
       "      <td>2021-12-21 13:26:22</td>\n",
       "      <td>https://join.gov.tw/idea/detail/673b0691-5b8a-...</td>\n",
       "      <td>5150</td>\n",
       "      <td>反對移轉投票、不在籍投票反對移轉投票、不在籍投票 \\n移轉投票、不在籍投票不論制度多完善，最...</td>\n",
       "      <td>內政部</td>\n",
       "      <td>中央選舉委員會</td>\n",
       "      <td>NaN</td>\n",
       "    </tr>\n",
       "    <tr>\n",
       "      <th>656</th>\n",
       "      <td>2021-12-30 00:36:32</td>\n",
       "      <td>https://join.gov.tw/idea/detail/e451c76b-88fd-...</td>\n",
       "      <td>5111</td>\n",
       "      <td>敦請政府立專法保障外送員工作權近幾年來外送產業崛起目前中央統計約有8萬8千人從事外送員 \\n...</td>\n",
       "      <td>勞動部</td>\n",
       "      <td>經濟部</td>\n",
       "      <td>交通部</td>\n",
       "    </tr>\n",
       "    <tr>\n",
       "      <th>657</th>\n",
       "      <td>2022-01-17 15:43:09</td>\n",
       "      <td>https://join.gov.tw/idea/detail/7c1cffb9-084a-...</td>\n",
       "      <td>9903</td>\n",
       "      <td>不反對雙國籍，但散佈中華民國應接受他國併吞或侵略等言論應註銷國籍我國係多元化國家，歡迎各國移...</td>\n",
       "      <td>內政部</td>\n",
       "      <td>大陸委員會</td>\n",
       "      <td>NaN</td>\n",
       "    </tr>\n",
       "  </tbody>\n",
       "</table>\n",
       "<p>658 rows × 7 columns</p>\n",
       "</div>"
      ],
      "text/plain": [
       "             publishDate                                                 網址  \\\n",
       "0    2015-09-10 13:26:19  https://join.gov.tw/idea/detail/25824c17-f141-...   \n",
       "1    2015-09-10 20:45:11  https://join.gov.tw/idea/detail/94b5dca9-57fc-...   \n",
       "2    2015-09-10 21:40:32  https://join.gov.tw/idea/detail/3bdab9bf-d874-...   \n",
       "3    2015-09-11 00:46:34  https://join.gov.tw/idea/detail/41d9ffb1-21f3-...   \n",
       "4    2015-09-12 02:23:57  https://join.gov.tw/idea/detail/87354c05-f36e-...   \n",
       "..                   ...                                                ...   \n",
       "653  2021-12-08 00:29:19  https://join.gov.tw/idea/detail/eb7440a1-332a-...   \n",
       "654  2021-12-19 18:42:40  https://join.gov.tw/idea/detail/39a7b4ab-12af-...   \n",
       "655  2021-12-21 13:26:22  https://join.gov.tw/idea/detail/673b0691-5b8a-...   \n",
       "656  2021-12-30 00:36:32  https://join.gov.tw/idea/detail/e451c76b-88fd-...   \n",
       "657  2022-01-17 15:43:09  https://join.gov.tw/idea/detail/7c1cffb9-084a-...   \n",
       "\n",
       "     附議數量                                            content     權責機關  \\\n",
       "0      22  Join 平台應提供匯出資料供批次下載\\n目前 Join 平台為方便機關人員作業，在後台有「...  國家發展委員會   \n",
       "1       2  都更的建議國家既然採多數決.為何總是被少數人綁架.都更常因釘子戶造成困擾.個人建議.國家要發...      內政部   \n",
       "2     184  引進鞭刑依先進國家如新加坡的刑法引進鞭刑讓重刑犯，強姦犯等重大罪犯得到應得的逞罰促進社會正義...      法務部   \n",
       "3      10  提高機車駕照取照標準並予以分類凡國民在年滿16歲後,可以申請並考取\"電動機車\"駕照.\\n在連...      交通部   \n",
       "4      52  敬請具體實踐中華民國憲法第143條：中華民國領土內之土地屬於國民全體。中華民國公有土地，兩則...      內政部   \n",
       "..    ...                                                ...      ...   \n",
       "653  7083  恢復《交通管理處罰條例》民眾得舉發所有靜態違規現行《交通管理處罰條例》第 7-1 條明定，民...      交通部   \n",
       "654  5693  「搶救抱卵母蟹、保護漁業資源，要求農委會修改現行管制辦法，全年禁止捕撈抱卵母蟹」2021年十...      農業部   \n",
       "655  5150  反對移轉投票、不在籍投票反對移轉投票、不在籍投票 \\n移轉投票、不在籍投票不論制度多完善，最...      內政部   \n",
       "656  5111  敦請政府立專法保障外送員工作權近幾年來外送產業崛起目前中央統計約有8萬8千人從事外送員 \\n...      勞動部   \n",
       "657  9903  不反對雙國籍，但散佈中華民國應接受他國併吞或侵略等言論應註銷國籍我國係多元化國家，歡迎各國移...      內政部   \n",
       "\n",
       "        協辦單位 協辦單位2  \n",
       "0        NaN   NaN  \n",
       "1        NaN   NaN  \n",
       "2        NaN   NaN  \n",
       "3        經濟部   環境部  \n",
       "4        財政部   NaN  \n",
       "..       ...   ...  \n",
       "653      內政部   NaN  \n",
       "654      NaN   NaN  \n",
       "655  中央選舉委員會   NaN  \n",
       "656      經濟部   交通部  \n",
       "657    大陸委員會   NaN  \n",
       "\n",
       "[658 rows x 7 columns]"
      ]
     },
     "execution_count": 1,
     "metadata": {},
     "output_type": "execute_result"
    }
   ],
   "source": [
    "import pandas as pd\n",
    "import time\n",
    "import matplotlib\n",
    "import matplotlib.pyplot as plt\n",
    "\n",
    "dfN = pd.read_csv(\"Taiwanese_Petitions.csv\", encoding=\"utf-8\")\n",
    "dfN"
   ]
  },
  {
   "cell_type": "code",
   "execution_count": 7,
   "id": "9e1d74ad-e37d-46ec-8e37-0eb8c6772e3f",
   "metadata": {},
   "outputs": [
    {
     "data": {
      "image/png": "[encoded data removed]",
      "text/plain": [
       "<Figure size 1000x600 with 1 Axes>"
      ]
     },
     "metadata": {},
     "output_type": "display_data"
    }
   ],
   "source": [
    "# Define a mapping from Chinese department names to English\n",
    "department_translation = {\n",
    "    \"內政部\": \"Internal Affairs\",\n",
    "    \"法務部\": \"Justice\",\n",
    "    \"交通部\": \"Transportation\",\n",
    "    \"環境部\": \"Environment\",\n",
    "    \"衛生福利部\": \"Health and Welfare\",\n",
    "    \"財政部\": \"Finance\",\n",
    "    \"教育部\": \"Education\",\n",
    "    \"經濟部\": \"Economics\",\n",
    "    \"勞動部\": \"Labor\",\n",
    "    \"農業部\": \"Agriculture\",\n",
    "    \"行政院人事行政總處\": \"Executive Yuan\",\n",
    "    \"其余\": \"Others\"\n",
    "}\n",
    "\n",
    "# Rename the columns using the translation dictionary\n",
    "dfN_renamed = dfN.rename(columns=department_translation)\n",
    "\n",
    "# Select only the translated label columns (excluding 'content')\n",
    "translated_label_columns = [department_translation.get(col, col) for col in dfN.columns if col in department_translation]\n",
    "\n",
    "# Count the occurrences of each translated label\n",
    "translated_label_counts = dfN_renamed[translated_label_columns].sum().sort_values(ascending=False)\n",
    "\n",
    "# Plot the distribution with translated labels\n",
    "plt.figure(figsize=(10, 6))\n",
    "ax = translated_label_counts.plot(kind=\"barh\", color=\"dodgerblue\")\n",
    "\n",
    "# Add value labels next to each bar\n",
    "for i, (label, value) in enumerate(translated_label_counts.items()):\n",
    "    ax.text(value + 1, i, str(int(value)), va='center', fontsize=10)\n",
    "\n",
    "plt.xlabel(\"Count\")\n",
    "# plt.title(\"Distribution of label frequencies used in the training\")\n",
    "plt.gca().invert_yaxis()  # Invert y-axis for better readability\n",
    "\n",
    "plot_filename = \"Distribution.png\"\n",
    "plt.savefig(plot_filename, dpi=1200, bbox_inches=\"tight\")\n",
    "\n",
    "# Show the plot\n",
    "plt.show()\n"
   ]
  },
  {
   "cell_type": "code",
   "execution_count": 208,
   "id": "86dfa513-b331-470e-a10a-7b6e6434fdd9",
   "metadata": {},
   "outputs": [],
   "source": [
    "import os\n",
    "import pandas as pd\n",
    "import numpy as np\n",
    "import shutil\n",
    "import sys\n",
    "import tqdm.notebook as tq\n",
    "from collections import defaultdict\n",
    "\n",
    "import torch\n",
    "import torch.nn as nn\n",
    "\n",
    "device = torch.device('cuda') if torch.cuda.is_available() else torch.device('cpu')"
   ]
  },
  {
   "cell_type": "code",
   "execution_count": 274,
   "id": "e49079fc-0b0e-4db4-a103-53d48cfe035f",
   "metadata": {},
   "outputs": [],
   "source": [
    "from sklearn.model_selection import train_test_split\n",
    "# split into train and test\n",
    "df_train, df_test = train_test_split(dfN, random_state=1111, test_size=0.30, shuffle=True)\n",
    "# split test into test and validation datasets\n",
    "df_test, df_valid = train_test_split(df_test, random_state=1111, test_size=0.50, shuffle=True)"
   ]
  },
  {
   "cell_type": "code",
   "execution_count": 275,
   "id": "543ee5d5-faa4-4676-adec-6cfbd1ed7099",
   "metadata": {},
   "outputs": [
    {
     "data": {
      "text/html": [
       "<div>\n",
       "<style scoped>\n",
       "    .dataframe tbody tr th:only-of-type {\n",
       "        vertical-align: middle;\n",
       "    }\n",
       "\n",
       "    .dataframe tbody tr th {\n",
       "        vertical-align: top;\n",
       "    }\n",
       "\n",
       "    .dataframe thead th {\n",
       "        text-align: right;\n",
       "    }\n",
       "</style>\n",
       "<table border=\"1\" class=\"dataframe\">\n",
       "  <thead>\n",
       "    <tr style=\"text-align: right;\">\n",
       "      <th></th>\n",
       "      <th>content</th>\n",
       "      <th>內政部</th>\n",
       "      <th>法務部</th>\n",
       "      <th>交通部</th>\n",
       "      <th>環境部</th>\n",
       "      <th>衛生福利部</th>\n",
       "      <th>財政部</th>\n",
       "      <th>教育部</th>\n",
       "      <th>經濟部</th>\n",
       "      <th>勞動部</th>\n",
       "      <th>農業部</th>\n",
       "      <th>行政院人事行政總處</th>\n",
       "      <th>其余</th>\n",
       "    </tr>\n",
       "  </thead>\n",
       "  <tbody>\n",
       "    <tr>\n",
       "      <th>242</th>\n",
       "      <td>讓酒駕在台灣消失~ 以現有罰款金額為低消~ 若違規者為自有車輛~ 且月收入高於低消~ 罰金擇...</td>\n",
       "      <td>1</td>\n",
       "      <td>0</td>\n",
       "      <td>1</td>\n",
       "      <td>0</td>\n",
       "      <td>0</td>\n",
       "      <td>0</td>\n",
       "      <td>0</td>\n",
       "      <td>0</td>\n",
       "      <td>0</td>\n",
       "      <td>0</td>\n",
       "      <td>0</td>\n",
       "      <td>0</td>\n",
       "    </tr>\n",
       "    <tr>\n",
       "      <th>330</th>\n",
       "      <td>生活即政治：彈性工時/加班日的垃圾要怎麼倒？　　現階段的勞工實際工時過長、且臨時性的加班要求...</td>\n",
       "      <td>0</td>\n",
       "      <td>0</td>\n",
       "      <td>0</td>\n",
       "      <td>1</td>\n",
       "      <td>0</td>\n",
       "      <td>0</td>\n",
       "      <td>0</td>\n",
       "      <td>0</td>\n",
       "      <td>0</td>\n",
       "      <td>0</td>\n",
       "      <td>0</td>\n",
       "      <td>0</td>\n",
       "    </tr>\n",
       "    <tr>\n",
       "      <th>290</th>\n",
       "      <td>國民年金不應該是強制納保，應修改為由全體國民自己來決定是否要不要加入國民年金保險 \\n 依照...</td>\n",
       "      <td>0</td>\n",
       "      <td>0</td>\n",
       "      <td>0</td>\n",
       "      <td>0</td>\n",
       "      <td>1</td>\n",
       "      <td>0</td>\n",
       "      <td>0</td>\n",
       "      <td>0</td>\n",
       "      <td>1</td>\n",
       "      <td>0</td>\n",
       "      <td>0</td>\n",
       "      <td>0</td>\n",
       "    </tr>\n",
       "    <tr>\n",
       "      <th>207</th>\n",
       "      <td>提議修改1138條中條文，修改成對於嫁出去的女兒不應享有父母親的遺產繼承權，沒嫁的女兒才有繼...</td>\n",
       "      <td>0</td>\n",
       "      <td>1</td>\n",
       "      <td>0</td>\n",
       "      <td>0</td>\n",
       "      <td>0</td>\n",
       "      <td>0</td>\n",
       "      <td>0</td>\n",
       "      <td>0</td>\n",
       "      <td>0</td>\n",
       "      <td>0</td>\n",
       "      <td>0</td>\n",
       "      <td>0</td>\n",
       "    </tr>\n",
       "    <tr>\n",
       "      <th>253</th>\n",
       "      <td>立法通過「國民營養法」建立國民正確飲食觀念，養成均衡飲食習慣，改善國民營養，增進國民健康(1...</td>\n",
       "      <td>0</td>\n",
       "      <td>0</td>\n",
       "      <td>0</td>\n",
       "      <td>0</td>\n",
       "      <td>1</td>\n",
       "      <td>0</td>\n",
       "      <td>0</td>\n",
       "      <td>0</td>\n",
       "      <td>0</td>\n",
       "      <td>0</td>\n",
       "      <td>0</td>\n",
       "      <td>0</td>\n",
       "    </tr>\n",
       "    <tr>\n",
       "      <th>...</th>\n",
       "      <td>...</td>\n",
       "      <td>...</td>\n",
       "      <td>...</td>\n",
       "      <td>...</td>\n",
       "      <td>...</td>\n",
       "      <td>...</td>\n",
       "      <td>...</td>\n",
       "      <td>...</td>\n",
       "      <td>...</td>\n",
       "      <td>...</td>\n",
       "      <td>...</td>\n",
       "      <td>...</td>\n",
       "      <td>...</td>\n",
       "    </tr>\n",
       "    <tr>\n",
       "      <th>152</th>\n",
       "      <td>針對”過失致死罪”刑法相關法條修法，恢復司法正義針對”過失致死罪”刑法立法院相關法條修法，恢...</td>\n",
       "      <td>0</td>\n",
       "      <td>1</td>\n",
       "      <td>0</td>\n",
       "      <td>0</td>\n",
       "      <td>0</td>\n",
       "      <td>0</td>\n",
       "      <td>0</td>\n",
       "      <td>0</td>\n",
       "      <td>0</td>\n",
       "      <td>0</td>\n",
       "      <td>0</td>\n",
       "      <td>0</td>\n",
       "    </tr>\n",
       "    <tr>\n",
       "      <th>396</th>\n",
       "      <td>委員、幹部委員資格1.公寓大廈管理條例裡未明確限定管委會委員不得有三等親內一起擔任委員。 \\...</td>\n",
       "      <td>1</td>\n",
       "      <td>0</td>\n",
       "      <td>0</td>\n",
       "      <td>0</td>\n",
       "      <td>0</td>\n",
       "      <td>0</td>\n",
       "      <td>0</td>\n",
       "      <td>0</td>\n",
       "      <td>0</td>\n",
       "      <td>0</td>\n",
       "      <td>0</td>\n",
       "      <td>0</td>\n",
       "    </tr>\n",
       "    <tr>\n",
       "      <th>337</th>\n",
       "      <td>建商蓋的房屋，廁所應有對外窗，室內至少應有30坪等合理之規範。有了孩子之後，看了很多房子，建...</td>\n",
       "      <td>1</td>\n",
       "      <td>0</td>\n",
       "      <td>0</td>\n",
       "      <td>0</td>\n",
       "      <td>0</td>\n",
       "      <td>0</td>\n",
       "      <td>0</td>\n",
       "      <td>0</td>\n",
       "      <td>0</td>\n",
       "      <td>0</td>\n",
       "      <td>0</td>\n",
       "      <td>0</td>\n",
       "    </tr>\n",
       "    <tr>\n",
       "      <th>311</th>\n",
       "      <td>由家長監督性教育（一）增訂兒少福利法46-2條 \\n高中以下學校應每年安排一次性知識及守貞課...</td>\n",
       "      <td>0</td>\n",
       "      <td>0</td>\n",
       "      <td>0</td>\n",
       "      <td>0</td>\n",
       "      <td>1</td>\n",
       "      <td>0</td>\n",
       "      <td>1</td>\n",
       "      <td>0</td>\n",
       "      <td>0</td>\n",
       "      <td>0</td>\n",
       "      <td>0</td>\n",
       "      <td>0</td>\n",
       "    </tr>\n",
       "    <tr>\n",
       "      <th>412</th>\n",
       "      <td>修改性別平等教育法的『多元性別』為『兩性』性別平等教育，有其良善的立法精神。在第 1 條就寫...</td>\n",
       "      <td>0</td>\n",
       "      <td>0</td>\n",
       "      <td>0</td>\n",
       "      <td>0</td>\n",
       "      <td>0</td>\n",
       "      <td>0</td>\n",
       "      <td>1</td>\n",
       "      <td>0</td>\n",
       "      <td>0</td>\n",
       "      <td>0</td>\n",
       "      <td>0</td>\n",
       "      <td>0</td>\n",
       "    </tr>\n",
       "  </tbody>\n",
       "</table>\n",
       "<p>460 rows × 13 columns</p>\n",
       "</div>"
      ],
      "text/plain": [
       "                                               content  內政部  法務部  交通部  環境部  \\\n",
       "242  讓酒駕在台灣消失~ 以現有罰款金額為低消~ 若違規者為自有車輛~ 且月收入高於低消~ 罰金擇...    1    0    1    0   \n",
       "330  生活即政治：彈性工時/加班日的垃圾要怎麼倒？　　現階段的勞工實際工時過長、且臨時性的加班要求...    0    0    0    1   \n",
       "290  國民年金不應該是強制納保，應修改為由全體國民自己來決定是否要不要加入國民年金保險 \\n 依照...    0    0    0    0   \n",
       "207  提議修改1138條中條文，修改成對於嫁出去的女兒不應享有父母親的遺產繼承權，沒嫁的女兒才有繼...    0    1    0    0   \n",
       "253  立法通過「國民營養法」建立國民正確飲食觀念，養成均衡飲食習慣，改善國民營養，增進國民健康(1...    0    0    0    0   \n",
       "..                                                 ...  ...  ...  ...  ...   \n",
       "152  針對”過失致死罪”刑法相關法條修法，恢復司法正義針對”過失致死罪”刑法立法院相關法條修法，恢...    0    1    0    0   \n",
       "396  委員、幹部委員資格1.公寓大廈管理條例裡未明確限定管委會委員不得有三等親內一起擔任委員。 \\...    1    0    0    0   \n",
       "337  建商蓋的房屋，廁所應有對外窗，室內至少應有30坪等合理之規範。有了孩子之後，看了很多房子，建...    1    0    0    0   \n",
       "311  由家長監督性教育（一）增訂兒少福利法46-2條 \\n高中以下學校應每年安排一次性知識及守貞課...    0    0    0    0   \n",
       "412  修改性別平等教育法的『多元性別』為『兩性』性別平等教育，有其良善的立法精神。在第 1 條就寫...    0    0    0    0   \n",
       "\n",
       "     衛生福利部  財政部  教育部  經濟部  勞動部  農業部  行政院人事行政總處  其余  \n",
       "242      0    0    0    0    0    0          0   0  \n",
       "330      0    0    0    0    0    0          0   0  \n",
       "290      1    0    0    0    1    0          0   0  \n",
       "207      0    0    0    0    0    0          0   0  \n",
       "253      1    0    0    0    0    0          0   0  \n",
       "..     ...  ...  ...  ...  ...  ...        ...  ..  \n",
       "152      0    0    0    0    0    0          0   0  \n",
       "396      0    0    0    0    0    0          0   0  \n",
       "337      0    0    0    0    0    0          0   0  \n",
       "311      1    0    1    0    0    0          0   0  \n",
       "412      0    0    1    0    0    0          0   0  \n",
       "\n",
       "[460 rows x 13 columns]"
      ]
     },
     "execution_count": 275,
     "metadata": {},
     "output_type": "execute_result"
    }
   ],
   "source": [
    "df_train"
   ]
  },
  {
   "cell_type": "code",
   "execution_count": 276,
   "id": "ed664cb7-428a-40ac-9f38-d18bda704edc",
   "metadata": {},
   "outputs": [
    {
     "data": {
      "text/html": [
       "<div>\n",
       "<style scoped>\n",
       "    .dataframe tbody tr th:only-of-type {\n",
       "        vertical-align: middle;\n",
       "    }\n",
       "\n",
       "    .dataframe tbody tr th {\n",
       "        vertical-align: top;\n",
       "    }\n",
       "\n",
       "    .dataframe thead th {\n",
       "        text-align: right;\n",
       "    }\n",
       "</style>\n",
       "<table border=\"1\" class=\"dataframe\">\n",
       "  <thead>\n",
       "    <tr style=\"text-align: right;\">\n",
       "      <th></th>\n",
       "      <th>Class</th>\n",
       "      <th>Count</th>\n",
       "    </tr>\n",
       "  </thead>\n",
       "  <tbody>\n",
       "    <tr>\n",
       "      <th>0</th>\n",
       "      <td>內政部</td>\n",
       "      <td>132</td>\n",
       "    </tr>\n",
       "    <tr>\n",
       "      <th>2</th>\n",
       "      <td>交通部</td>\n",
       "      <td>102</td>\n",
       "    </tr>\n",
       "    <tr>\n",
       "      <th>4</th>\n",
       "      <td>衛生福利部</td>\n",
       "      <td>84</td>\n",
       "    </tr>\n",
       "    <tr>\n",
       "      <th>6</th>\n",
       "      <td>教育部</td>\n",
       "      <td>73</td>\n",
       "    </tr>\n",
       "    <tr>\n",
       "      <th>11</th>\n",
       "      <td>其余</td>\n",
       "      <td>48</td>\n",
       "    </tr>\n",
       "    <tr>\n",
       "      <th>1</th>\n",
       "      <td>法務部</td>\n",
       "      <td>30</td>\n",
       "    </tr>\n",
       "    <tr>\n",
       "      <th>8</th>\n",
       "      <td>勞動部</td>\n",
       "      <td>29</td>\n",
       "    </tr>\n",
       "    <tr>\n",
       "      <th>7</th>\n",
       "      <td>經濟部</td>\n",
       "      <td>27</td>\n",
       "    </tr>\n",
       "    <tr>\n",
       "      <th>5</th>\n",
       "      <td>財政部</td>\n",
       "      <td>26</td>\n",
       "    </tr>\n",
       "    <tr>\n",
       "      <th>9</th>\n",
       "      <td>農業部</td>\n",
       "      <td>25</td>\n",
       "    </tr>\n",
       "    <tr>\n",
       "      <th>3</th>\n",
       "      <td>環境部</td>\n",
       "      <td>22</td>\n",
       "    </tr>\n",
       "    <tr>\n",
       "      <th>10</th>\n",
       "      <td>行政院人事行政總處</td>\n",
       "      <td>14</td>\n",
       "    </tr>\n",
       "  </tbody>\n",
       "</table>\n",
       "</div>"
      ],
      "text/plain": [
       "        Class  Count\n",
       "0         內政部    132\n",
       "2         交通部    102\n",
       "4       衛生福利部     84\n",
       "6         教育部     73\n",
       "11         其余     48\n",
       "1         法務部     30\n",
       "8         勞動部     29\n",
       "7         經濟部     27\n",
       "5         財政部     26\n",
       "9         農業部     25\n",
       "3         環境部     22\n",
       "10  行政院人事行政總處     14"
      ]
     },
     "execution_count": 276,
     "metadata": {},
     "output_type": "execute_result"
    }
   ],
   "source": [
    "import pandas as pd\n",
    "\n",
    "# Assuming df_train is your DataFrame\n",
    "# Create a new list to store class distribution\n",
    "class_distribution_list = []\n",
    "\n",
    "# Iterate through columns dynamically\n",
    "for column in df_train.columns:\n",
    "    class_count = df_train[df_train[column] == 1][column].value_counts().to_dict()\n",
    "    for label, count in class_count.items():\n",
    "        class_distribution_list.append({'Class': column, 'Count': count})\n",
    "\n",
    "# Convert list to DataFrame\n",
    "class_distribution = pd.DataFrame(class_distribution_list)\n",
    "\n",
    "# Sort the class_distribution DataFrame by the 'Count' column in descending order\n",
    "class_distribution = class_distribution.sort_values(by='Count', ascending=False)\n",
    "\n",
    "class_distribution\n"
   ]
  },
  {
   "cell_type": "code",
   "execution_count": 277,
   "id": "2b454f64-e8c0-4ed9-ac60-bd7c427e1020",
   "metadata": {},
   "outputs": [],
   "source": [
    "# Hyperparameters\n",
    "MAX_LEN = 256\n",
    "TRAIN_BATCH_SIZE = 32\n",
    "VALID_BATCH_SIZE = 32\n",
    "TEST_BATCH_SIZE = 32\n",
    "EPOCHS = 10\n",
    "LEARNING_RATE = 1e-05\n"
   ]
  },
  {
   "cell_type": "code",
   "execution_count": 278,
   "id": "3122a9a3-b9c2-4d3e-8ce7-0ed4ef60c844",
   "metadata": {},
   "outputs": [
    {
     "name": "stdout",
     "output_type": "stream",
     "text": [
      "Train: (460, 13), Test: (99, 13), Valid: (99, 13)\n"
     ]
    }
   ],
   "source": [
    "from transformers import BertTokenizer, BertModel\n",
    "tokenizer = BertTokenizer.from_pretrained('ZhangQianML/CnPBERT')\n",
    "print(f\"Train: {df_train.shape}, Test: {df_test.shape}, Valid: {df_valid.shape}\")"
   ]
  },
  {
   "cell_type": "code",
   "execution_count": 279,
   "id": "ea64c975-4ef8-454a-b10f-c8b57fb04e5d",
   "metadata": {},
   "outputs": [
    {
     "name": "stdout",
     "output_type": "stream",
     "text": [
      "Input IDs: tensor([[  101,   100,  8995, 10060,  8221,   100,  8228, 11285, 11789,  8180,\n",
      "           119,   102,     0,     0,     0,     0,     0,     0,     0,     0,\n",
      "             0,     0,     0,     0,     0,     0,     0,     0,     0,     0,\n",
      "             0,     0,     0,     0,     0,     0,     0,     0,     0,     0,\n",
      "             0,     0,     0,     0,     0,     0,     0,     0,     0,     0]])\n",
      "Attention Mask: tensor([[1, 1, 1, 1, 1, 1, 1, 1, 1, 1, 1, 1, 0, 0, 0, 0, 0, 0, 0, 0, 0, 0, 0, 0,\n",
      "         0, 0, 0, 0, 0, 0, 0, 0, 0, 0, 0, 0, 0, 0, 0, 0, 0, 0, 0, 0, 0, 0, 0, 0,\n",
      "         0, 0]])\n"
     ]
    }
   ],
   "source": [
    "#If you want to handle cases where the text is longer than the maximum sequence length allowed by the BERT model and you don't \n",
    "#want to truncate the text, you can split the text into smaller chunks and process each chunk separately. \n",
    "#This approach is known as \"chunking\" or \"sliding window.\"# Test the tokenizer\n",
    "test_text = \"We are testing BERT tokenizer.\"\n",
    "\n",
    "# Set the maximum sequence length\n",
    "max_seq_length = 50\n",
    "\n",
    "# Tokenize the text without truncation\n",
    "tokens = tokenizer.tokenize(test_text)\n",
    "\n",
    "# Split the tokens into chunks\n",
    "chunks = [tokens[i:i + max_seq_length] for i in range(0, len(tokens), max_seq_length)]\n",
    "\n",
    "# Initialize lists to store encodings\n",
    "input_ids_list = []\n",
    "attention_mask_list = []\n",
    "\n",
    "# Process each chunk separately\n",
    "for chunk in chunks:\n",
    "    # Convert tokens to input_ids and attention_mask\n",
    "    encoding = tokenizer.encode_plus(chunk, \n",
    "                                     add_special_tokens=True,\n",
    "                                     max_length=max_seq_length,\n",
    "                                     padding=\"max_length\",\n",
    "                                     return_attention_mask=True,\n",
    "                                     return_tensors=\"pt\")\n",
    "\n",
    "    # Append the results to the lists\n",
    "    input_ids_list.append(encoding[\"input_ids\"])\n",
    "    attention_mask_list.append(encoding[\"attention_mask\"])\n",
    "\n",
    "# Concatenate the results to get the final encoding\n",
    "input_ids = torch.cat(input_ids_list, dim=0)\n",
    "attention_mask = torch.cat(attention_mask_list, dim=0)\n",
    "\n",
    "# Display the final encoding\n",
    "print(\"Input IDs:\", input_ids)\n",
    "print(\"Attention Mask:\", attention_mask)\n",
    "\n"
   ]
  },
  {
   "cell_type": "code",
   "execution_count": 280,
   "id": "189dab08-e469-4451-befa-ca9748c6ecb3",
   "metadata": {},
   "outputs": [
    {
     "data": {
      "text/plain": [
       "242    讓酒駕在台灣消失~ 以現有罰款金額為低消~ 若違規者為自有車輛~ 且月收入高於低消~ 罰金擇...\n",
       "330    生活即政治：彈性工時/加班日的垃圾要怎麼倒？　　現階段的勞工實際工時過長、且臨時性的加班要求...\n",
       "290    國民年金不應該是強制納保，應修改為由全體國民自己來決定是否要不要加入國民年金保險 \\n 依照...\n",
       "207    提議修改1138條中條文，修改成對於嫁出去的女兒不應享有父母親的遺產繼承權，沒嫁的女兒才有繼...\n",
       "253    立法通過「國民營養法」建立國民正確飲食觀念，養成均衡飲食習慣，改善國民營養，增進國民健康(1...\n",
       "                             ...                        \n",
       "152    針對”過失致死罪”刑法相關法條修法，恢復司法正義針對”過失致死罪”刑法立法院相關法條修法，恢...\n",
       "396    委員、幹部委員資格1.公寓大廈管理條例裡未明確限定管委會委員不得有三等親內一起擔任委員。 \\...\n",
       "337    建商蓋的房屋，廁所應有對外窗，室內至少應有30坪等合理之規範。有了孩子之後，看了很多房子，建...\n",
       "311    由家長監督性教育（一）增訂兒少福利法46-2條 \\n高中以下學校應每年安排一次性知識及守貞課...\n",
       "412    修改性別平等教育法的『多元性別』為『兩性』性別平等教育，有其良善的立法精神。在第 1 條就寫...\n",
       "Name: content, Length: 460, dtype: object"
      ]
     },
     "execution_count": 280,
     "metadata": {},
     "output_type": "execute_result"
    }
   ],
   "source": [
    "df_train['content']"
   ]
  },
  {
   "cell_type": "code",
   "execution_count": 281,
   "id": "9860b80c-6088-4551-a906-758146bb3af3",
   "metadata": {},
   "outputs": [],
   "source": [
    "import torch\n",
    "class CustomDataset(torch.utils.data.Dataset):\n",
    "    def __init__(self, df, tokenizer, max_len, target_list):\n",
    "        self.tokenizer = tokenizer\n",
    "        self.df = df\n",
    "        self.title = list(df['content'])\n",
    "        self.targets = self.df[target_list].values\n",
    "        self.targets = self.targets.astype(float)\n",
    "\n",
    "        self.max_len = max_len\n",
    "\n",
    "    def __len__(self):\n",
    "        return len(self.title)\n",
    "\n",
    "    def __getitem__(self, index):\n",
    "        title = str(self.title[index])\n",
    "        title = \" \".join(title.split())\n",
    "        inputs = self.tokenizer.encode_plus(\n",
    "            title,\n",
    "            None,\n",
    "            add_special_tokens=True,\n",
    "            max_length=self.max_len,\n",
    "            padding='max_length',\n",
    "            return_token_type_ids=True,\n",
    "            truncation=True,\n",
    "            return_attention_mask=True,\n",
    "            return_tensors='pt'\n",
    "            \n",
    "        \n",
    "        )\n",
    "        return {\n",
    "            'input_ids': inputs['input_ids'].flatten(),\n",
    "            'attention_mask': inputs['attention_mask'].flatten(),\n",
    "            'token_type_ids': inputs[\"token_type_ids\"].flatten(),\n",
    "            'targets': torch.FloatTensor(self.targets[index]),\n",
    "            'title': title\n",
    "        }\n"
   ]
  },
  {
   "cell_type": "code",
   "execution_count": 282,
   "id": "d2a800fe-a5c0-43d4-b38a-aba9ca12d869",
   "metadata": {},
   "outputs": [
    {
     "data": {
      "text/plain": [
       "['content',\n",
       " '內政部',\n",
       " '法務部',\n",
       " '交通部',\n",
       " '環境部',\n",
       " '衛生福利部',\n",
       " '財政部',\n",
       " '教育部',\n",
       " '經濟部',\n",
       " '勞動部',\n",
       " '農業部',\n",
       " '行政院人事行政總處',\n",
       " '其余']"
      ]
     },
     "execution_count": 282,
     "metadata": {},
     "output_type": "execute_result"
    }
   ],
   "source": [
    "target_list = list(dfN.columns)\n",
    "target_list\n"
   ]
  },
  {
   "cell_type": "code",
   "execution_count": 283,
   "id": "ea2cfeac-648a-4635-8bc7-4a40ba45b268",
   "metadata": {},
   "outputs": [
    {
     "data": {
      "text/plain": [
       "['內政部',\n",
       " '法務部',\n",
       " '交通部',\n",
       " '環境部',\n",
       " '衛生福利部',\n",
       " '財政部',\n",
       " '教育部',\n",
       " '經濟部',\n",
       " '勞動部',\n",
       " '農業部',\n",
       " '行政院人事行政總處',\n",
       " '其余']"
      ]
     },
     "execution_count": 283,
     "metadata": {},
     "output_type": "execute_result"
    }
   ],
   "source": [
    "target_list = target_list[1:]\n",
    "target_list"
   ]
  },
  {
   "cell_type": "code",
   "execution_count": 284,
   "id": "035dd3b4-7866-4538-afde-0cd8c785ffba",
   "metadata": {},
   "outputs": [],
   "source": [
    "train_dataset = CustomDataset(df_train, tokenizer, MAX_LEN, target_list)\n",
    "valid_dataset = CustomDataset(df_valid, tokenizer, MAX_LEN, target_list)\n",
    "test_dataset = CustomDataset(df_test, tokenizer, MAX_LEN, target_list)"
   ]
  },
  {
   "cell_type": "code",
   "execution_count": 285,
   "id": "2472604d-fea2-4b4a-b696-d7a0fb2c4081",
   "metadata": {},
   "outputs": [
    {
     "data": {
      "text/plain": [
       "{'input_ids': tensor([ 101, 6366, 6983, 7690, 1762, 1378, 4124, 3867, 1927,  172,  809, 4412,\n",
       "         3300, 5391, 3621, 7032, 7540, 4158,  856, 3867,  172, 5735, 6889, 6211,\n",
       "         5442, 4158, 5632, 3300, 6722, 6739,  172,  684, 3299, 3119, 1057, 7770,\n",
       "         3176,  856, 3867,  172, 5391, 7032, 3079, 7770, 5391, 3621,  172, 2769,\n",
       "         2990, 6359,  769, 6858, 6889, 6211, 5391, 3621,  172, 3300,  856, 3867,\n",
       "         4192,  677, 7361,  172,  809, 4412, 3300, 5391, 3621, 7032, 7540, 4158,\n",
       "          856, 3867,  172, 5735, 6889, 6211, 5442, 4158, 5632, 3300, 6722, 6739,\n",
       "          172,  684, 3299, 3119, 1057, 7770, 3176,  856, 3867,  172, 5391, 7032,\n",
       "         3079, 7770, 5391, 3621,  172,  172,  172,  809, 4412, 1762, 4638, 1825,\n",
       "         3315, 5959, 6536, 8202, 8156, 1039,  117, 5018,  671, 3613, 6983, 7690,\n",
       "          125,  119,  126, 5857,  117, 2347, 5195, 2571,  753,  943, 3299, 4638,\n",
       "         5959, 3717,  117, 1377, 3221, 2205, 3176,  671,  763, 3300, 7092,  782,\n",
       "          889, 6303,  117, 3018,  679, 1962, 1372, 3221,  671, 7623, 4638, 3867,\n",
       "         6527,  136, 6313, 1558,  800,  947, 3298, 2586, 1621,  136,  136, 1963,\n",
       "         3362,  809, 5959, 6536, 4534,  868, 3560, 3976,  136, 2399, 3119, 1057,\n",
       "         8290, 5857, 5391, 3621,  753,  943, 3299, 5959, 6536,  134, 8125, 5857,\n",
       "          136, 6929,  763, 3300, 7092,  782, 2798, 3298, 4578,  172,  172,  679,\n",
       "         6206, 6656, 2769, 6303,  117, 6857, 3564, 3298, 2523, 1914,  782, 6845,\n",
       "         4026, 4922,  136,  809, 2769, 4638, 5195, 7710,  117, 2523, 1914, 3300,\n",
       "         7092,  782, 4638, 3119, 1057,  117, 2347, 5195, 3221,  856, 1841, 1168,\n",
       "          856, 1841,  172, 2692, 2590, 2218, 3221,  131,  800,  947, 4638, 3119,\n",
       "         1057,  117, 2518,  102]),\n",
       " 'attention_mask': tensor([1, 1, 1, 1, 1, 1, 1, 1, 1, 1, 1, 1, 1, 1, 1, 1, 1, 1, 1, 1, 1, 1, 1, 1,\n",
       "         1, 1, 1, 1, 1, 1, 1, 1, 1, 1, 1, 1, 1, 1, 1, 1, 1, 1, 1, 1, 1, 1, 1, 1,\n",
       "         1, 1, 1, 1, 1, 1, 1, 1, 1, 1, 1, 1, 1, 1, 1, 1, 1, 1, 1, 1, 1, 1, 1, 1,\n",
       "         1, 1, 1, 1, 1, 1, 1, 1, 1, 1, 1, 1, 1, 1, 1, 1, 1, 1, 1, 1, 1, 1, 1, 1,\n",
       "         1, 1, 1, 1, 1, 1, 1, 1, 1, 1, 1, 1, 1, 1, 1, 1, 1, 1, 1, 1, 1, 1, 1, 1,\n",
       "         1, 1, 1, 1, 1, 1, 1, 1, 1, 1, 1, 1, 1, 1, 1, 1, 1, 1, 1, 1, 1, 1, 1, 1,\n",
       "         1, 1, 1, 1, 1, 1, 1, 1, 1, 1, 1, 1, 1, 1, 1, 1, 1, 1, 1, 1, 1, 1, 1, 1,\n",
       "         1, 1, 1, 1, 1, 1, 1, 1, 1, 1, 1, 1, 1, 1, 1, 1, 1, 1, 1, 1, 1, 1, 1, 1,\n",
       "         1, 1, 1, 1, 1, 1, 1, 1, 1, 1, 1, 1, 1, 1, 1, 1, 1, 1, 1, 1, 1, 1, 1, 1,\n",
       "         1, 1, 1, 1, 1, 1, 1, 1, 1, 1, 1, 1, 1, 1, 1, 1, 1, 1, 1, 1, 1, 1, 1, 1,\n",
       "         1, 1, 1, 1, 1, 1, 1, 1, 1, 1, 1, 1, 1, 1, 1, 1]),\n",
       " 'token_type_ids': tensor([0, 0, 0, 0, 0, 0, 0, 0, 0, 0, 0, 0, 0, 0, 0, 0, 0, 0, 0, 0, 0, 0, 0, 0,\n",
       "         0, 0, 0, 0, 0, 0, 0, 0, 0, 0, 0, 0, 0, 0, 0, 0, 0, 0, 0, 0, 0, 0, 0, 0,\n",
       "         0, 0, 0, 0, 0, 0, 0, 0, 0, 0, 0, 0, 0, 0, 0, 0, 0, 0, 0, 0, 0, 0, 0, 0,\n",
       "         0, 0, 0, 0, 0, 0, 0, 0, 0, 0, 0, 0, 0, 0, 0, 0, 0, 0, 0, 0, 0, 0, 0, 0,\n",
       "         0, 0, 0, 0, 0, 0, 0, 0, 0, 0, 0, 0, 0, 0, 0, 0, 0, 0, 0, 0, 0, 0, 0, 0,\n",
       "         0, 0, 0, 0, 0, 0, 0, 0, 0, 0, 0, 0, 0, 0, 0, 0, 0, 0, 0, 0, 0, 0, 0, 0,\n",
       "         0, 0, 0, 0, 0, 0, 0, 0, 0, 0, 0, 0, 0, 0, 0, 0, 0, 0, 0, 0, 0, 0, 0, 0,\n",
       "         0, 0, 0, 0, 0, 0, 0, 0, 0, 0, 0, 0, 0, 0, 0, 0, 0, 0, 0, 0, 0, 0, 0, 0,\n",
       "         0, 0, 0, 0, 0, 0, 0, 0, 0, 0, 0, 0, 0, 0, 0, 0, 0, 0, 0, 0, 0, 0, 0, 0,\n",
       "         0, 0, 0, 0, 0, 0, 0, 0, 0, 0, 0, 0, 0, 0, 0, 0, 0, 0, 0, 0, 0, 0, 0, 0,\n",
       "         0, 0, 0, 0, 0, 0, 0, 0, 0, 0, 0, 0, 0, 0, 0, 0]),\n",
       " 'targets': tensor([1., 0., 1., 0., 0., 0., 0., 0., 0., 0., 0., 0.]),\n",
       " 'title': '讓酒駕在台灣消失~ 以現有罰款金額為低消~ 若違規者為自有車輛~ 且月收入高於低消~ 罰金擇高罰款~我提議交通違規罰款~ 有低消無上限~ 以現有罰款金額為低消~ 若違規者為自有車輛~ 且月收入高於低消~ 罰金擇高罰款~~~ 以現在的基本薪資20008元, 第一次酒駕4.5萬, 已經快二個月的薪水, 可是對於一些有錢人來說, 搞不好只是一餐的消費? 請問他們會怕嗎?? 如果以 薪資當作標準? 年收入120萬罰款二個月薪資= 24萬? 那些有錢人才會痛~~ 不要跟我說,這樣會很多人逃漏稅? 以我的經驗,很多有錢人的收入, 已經是低報到低報~ 意思就是: 他們的收入, 往往不只台面的這些~~~所以二個月的罰款他們還不一定會痛??? 懂嗎??? 政府負債這麼多錢~ 台灣勞工這麼低薪~ 本來就應該要找有錢人挖財源~ 更不用說他們是違規的罰款~~~如果他們守法? 也罰不到他們阿~~~'}"
      ]
     },
     "execution_count": 285,
     "metadata": {},
     "output_type": "execute_result"
    }
   ],
   "source": [
    "# testing the dataset\n",
    "next(iter(train_dataset))"
   ]
  },
  {
   "cell_type": "code",
   "execution_count": 286,
   "id": "ce011d56-08eb-4c91-a6d2-209d8a4c7ebf",
   "metadata": {},
   "outputs": [],
   "source": [
    "# Data loaders\n",
    "train_data_loader = torch.utils.data.DataLoader(train_dataset, \n",
    "    batch_size=TRAIN_BATCH_SIZE,\n",
    "    shuffle=True,\n",
    "    num_workers=0\n",
    ")\n",
    "\n",
    "val_data_loader = torch.utils.data.DataLoader(valid_dataset, \n",
    "    batch_size=VALID_BATCH_SIZE,\n",
    "    shuffle=False,\n",
    "    num_workers=0\n",
    ")\n",
    "\n",
    "test_data_loader = torch.utils.data.DataLoader(test_dataset, \n",
    "    batch_size=TEST_BATCH_SIZE,\n",
    "    shuffle=False,\n",
    "    num_workers=0\n",
    ")"
   ]
  },
  {
   "cell_type": "code",
   "execution_count": 287,
   "id": "492d7a13-e5f8-4bca-9a2a-4680ba5001c2",
   "metadata": {},
   "outputs": [
    {
     "name": "stderr",
     "output_type": "stream",
     "text": [
      "Some weights of BertModel were not initialized from the model checkpoint at ZhangQianML/CnPBERT and are newly initialized: ['bert.pooler.dense.bias', 'bert.pooler.dense.weight']\n",
      "You should probably TRAIN this model on a down-stream task to be able to use it for predictions and inference.\n"
     ]
    },
    {
     "data": {
      "text/plain": [
       "BERTClass(\n",
       "  (bert_model): BertModel(\n",
       "    (embeddings): BertEmbeddings(\n",
       "      (word_embeddings): Embedding(21128, 768, padding_idx=0)\n",
       "      (position_embeddings): Embedding(512, 768)\n",
       "      (token_type_embeddings): Embedding(2, 768)\n",
       "      (LayerNorm): LayerNorm((768,), eps=1e-12, elementwise_affine=True)\n",
       "      (dropout): Dropout(p=0.1, inplace=False)\n",
       "    )\n",
       "    (encoder): BertEncoder(\n",
       "      (layer): ModuleList(\n",
       "        (0-11): 12 x BertLayer(\n",
       "          (attention): BertAttention(\n",
       "            (self): BertSdpaSelfAttention(\n",
       "              (query): Linear(in_features=768, out_features=768, bias=True)\n",
       "              (key): Linear(in_features=768, out_features=768, bias=True)\n",
       "              (value): Linear(in_features=768, out_features=768, bias=True)\n",
       "              (dropout): Dropout(p=0.1, inplace=False)\n",
       "            )\n",
       "            (output): BertSelfOutput(\n",
       "              (dense): Linear(in_features=768, out_features=768, bias=True)\n",
       "              (LayerNorm): LayerNorm((768,), eps=1e-12, elementwise_affine=True)\n",
       "              (dropout): Dropout(p=0.1, inplace=False)\n",
       "            )\n",
       "          )\n",
       "          (intermediate): BertIntermediate(\n",
       "            (dense): Linear(in_features=768, out_features=3072, bias=True)\n",
       "            (intermediate_act_fn): GELUActivation()\n",
       "          )\n",
       "          (output): BertOutput(\n",
       "            (dense): Linear(in_features=3072, out_features=768, bias=True)\n",
       "            (LayerNorm): LayerNorm((768,), eps=1e-12, elementwise_affine=True)\n",
       "            (dropout): Dropout(p=0.1, inplace=False)\n",
       "          )\n",
       "        )\n",
       "      )\n",
       "    )\n",
       "    (pooler): BertPooler(\n",
       "      (dense): Linear(in_features=768, out_features=768, bias=True)\n",
       "      (activation): Tanh()\n",
       "    )\n",
       "  )\n",
       "  (dropout): Dropout(p=0.2, inplace=False)\n",
       "  (linear): Linear(in_features=768, out_features=12, bias=True)\n",
       ")"
      ]
     },
     "execution_count": 287,
     "metadata": {},
     "output_type": "execute_result"
    }
   ],
   "source": [
    "class BERTClass(torch.nn.Module):\n",
    "    def __init__(self):\n",
    "        super(BERTClass, self).__init__()\n",
    "        self.bert_model = BertModel.from_pretrained('ZhangQianML/CnPBERT', return_dict=True)\n",
    "        self.dropout = torch.nn.Dropout(0.2)\n",
    "        self.linear = torch.nn.Linear(768, 12)\n",
    "\n",
    "    def forward(self, input_ids, attn_mask, token_type_ids):\n",
    "        output = self.bert_model(\n",
    "            input_ids, \n",
    "            attention_mask=attn_mask, \n",
    "            token_type_ids=token_type_ids\n",
    "        )\n",
    "        output_dropout = self.dropout(output.pooler_output)\n",
    "        output = self.linear(output_dropout)\n",
    "        return output\n",
    "\n",
    "model = BERTClass()\n",
    "\n",
    "# # Freezing BERT layers: (tested, weaker convergence)\n",
    "# for param in model.bert_model.parameters():\n",
    "#     param.requires_grad = False\n",
    "\n",
    "model.to(device)"
   ]
  },
  {
   "cell_type": "code",
   "execution_count": 288,
   "id": "e3bb37e3-85e5-4ff2-964c-8b2606c26c90",
   "metadata": {},
   "outputs": [
    {
     "data": {
      "text/html": [
       "<div>\n",
       "<style scoped>\n",
       "    .dataframe tbody tr th:only-of-type {\n",
       "        vertical-align: middle;\n",
       "    }\n",
       "\n",
       "    .dataframe tbody tr th {\n",
       "        vertical-align: top;\n",
       "    }\n",
       "\n",
       "    .dataframe thead th {\n",
       "        text-align: right;\n",
       "    }\n",
       "</style>\n",
       "<table border=\"1\" class=\"dataframe\">\n",
       "  <thead>\n",
       "    <tr style=\"text-align: right;\">\n",
       "      <th></th>\n",
       "      <th>Class</th>\n",
       "      <th>Count</th>\n",
       "    </tr>\n",
       "  </thead>\n",
       "  <tbody>\n",
       "    <tr>\n",
       "      <th>0</th>\n",
       "      <td>內政部</td>\n",
       "      <td>132</td>\n",
       "    </tr>\n",
       "    <tr>\n",
       "      <th>2</th>\n",
       "      <td>交通部</td>\n",
       "      <td>102</td>\n",
       "    </tr>\n",
       "    <tr>\n",
       "      <th>4</th>\n",
       "      <td>衛生福利部</td>\n",
       "      <td>84</td>\n",
       "    </tr>\n",
       "    <tr>\n",
       "      <th>6</th>\n",
       "      <td>教育部</td>\n",
       "      <td>73</td>\n",
       "    </tr>\n",
       "    <tr>\n",
       "      <th>11</th>\n",
       "      <td>其余</td>\n",
       "      <td>48</td>\n",
       "    </tr>\n",
       "    <tr>\n",
       "      <th>1</th>\n",
       "      <td>法務部</td>\n",
       "      <td>30</td>\n",
       "    </tr>\n",
       "    <tr>\n",
       "      <th>8</th>\n",
       "      <td>勞動部</td>\n",
       "      <td>29</td>\n",
       "    </tr>\n",
       "    <tr>\n",
       "      <th>7</th>\n",
       "      <td>經濟部</td>\n",
       "      <td>27</td>\n",
       "    </tr>\n",
       "    <tr>\n",
       "      <th>5</th>\n",
       "      <td>財政部</td>\n",
       "      <td>26</td>\n",
       "    </tr>\n",
       "    <tr>\n",
       "      <th>9</th>\n",
       "      <td>農業部</td>\n",
       "      <td>25</td>\n",
       "    </tr>\n",
       "    <tr>\n",
       "      <th>3</th>\n",
       "      <td>環境部</td>\n",
       "      <td>22</td>\n",
       "    </tr>\n",
       "    <tr>\n",
       "      <th>10</th>\n",
       "      <td>行政院人事行政總處</td>\n",
       "      <td>14</td>\n",
       "    </tr>\n",
       "  </tbody>\n",
       "</table>\n",
       "</div>"
      ],
      "text/plain": [
       "        Class  Count\n",
       "0         內政部    132\n",
       "2         交通部    102\n",
       "4       衛生福利部     84\n",
       "6         教育部     73\n",
       "11         其余     48\n",
       "1         法務部     30\n",
       "8         勞動部     29\n",
       "7         經濟部     27\n",
       "5         財政部     26\n",
       "9         農業部     25\n",
       "3         環境部     22\n",
       "10  行政院人事行政總處     14"
      ]
     },
     "execution_count": 288,
     "metadata": {},
     "output_type": "execute_result"
    }
   ],
   "source": [
    "import pandas as pd\n",
    "\n",
    "# Assuming df_train is your DataFrame\n",
    "# Create a new list to store class distribution\n",
    "class_distribution_list = []\n",
    "\n",
    "# Iterate through columns dynamically\n",
    "for column in df_train.columns:\n",
    "    class_count = df_train[df_train[column] == 1][column].value_counts().to_dict()\n",
    "    for label, count in class_count.items():\n",
    "        class_distribution_list.append({'Class': column, 'Count': count})\n",
    "\n",
    "# Convert list to DataFrame\n",
    "class_distribution = pd.DataFrame(class_distribution_list)\n",
    "\n",
    "# Sort the class_distribution DataFrame by the 'Count' column in descending order\n",
    "class_distribution = class_distribution.sort_values(by='Count', ascending=False)\n",
    "\n",
    "class_distribution"
   ]
  },
  {
   "cell_type": "code",
   "execution_count": 289,
   "id": "737c04df-ff25-439a-86c8-dbcbd6af4324",
   "metadata": {},
   "outputs": [],
   "source": [
    "import torch\n",
    "import torch.nn as nn\n",
    "import torch.optim as optim\n",
    "\n",
    "# Assuming class_counts is a tensor containing the counts for each class\n",
    "#class_counts = torch.tensor([140, 28, 112, 18, 76, 26, 77, 18, 26, 28, 22, 50], dtype=torch.float)\n",
    "#class_weights = 1.0 / class_counts\n",
    "\n",
    "# Move to device\n",
    "#class_weights = class_weights.to(device)\n",
    "\n",
    "# Clip extreme values (optional)\n",
    "#class_weights = torch.clamp(class_weights, max=5.0)  # Prevent instability\n",
    "\n",
    "# Define loss function using pos_weight (recommended for multi-label classification)\n",
    "#loss_fn = torch.nn.BCEWithLogitsLoss(pos_weight=class_weights)\n"
   ]
  },
  {
   "cell_type": "code",
   "execution_count": 290,
   "id": "dbf4aaf7-ed86-4e21-94a6-83dfa608d209",
   "metadata": {},
   "outputs": [],
   "source": [
    "def loss_fn(outputs, targets):\n",
    "    return torch.nn.CrossEntropyLoss()(outputs, targets)"
   ]
  },
  {
   "cell_type": "code",
   "execution_count": 291,
   "id": "95898c79-4494-490d-b8f7-1b7f17a63307",
   "metadata": {},
   "outputs": [
    {
     "name": "stderr",
     "output_type": "stream",
     "text": [
      "C:\\Users\\danil\\anaconda3\\envs\\multilabel\\lib\\site-packages\\transformers\\optimization.py:591: FutureWarning: This implementation of AdamW is deprecated and will be removed in a future version. Use the PyTorch implementation torch.optim.AdamW instead, or set `no_deprecation_warning=True` to disable this warning\n",
      "  warnings.warn(\n"
     ]
    }
   ],
   "source": [
    "from transformers import AdamW\n",
    "\n",
    "# define the optimizer\n",
    "optimizer = AdamW(model.parameters(), lr = 1e-5)   \n"
   ]
  },
  {
   "cell_type": "code",
   "execution_count": 292,
   "id": "7653d02c-f21b-4358-a3e7-e68b0f62fbe0",
   "metadata": {},
   "outputs": [],
   "source": [
    "# Training of the model for one epoch\n",
    "def train_model(training_loader, model, optimizer):\n",
    "\n",
    "    losses = []\n",
    "    correct_predictions = 0\n",
    "    num_samples = 0\n",
    "    # set model to training mode (activate droput, batch norm)\n",
    "    model.train()\n",
    "    # initialize the progress bar\n",
    "    loop = tq.tqdm(enumerate(training_loader), total=len(training_loader), \n",
    "                      leave=True, colour='steelblue')\n",
    "    for batch_idx, data in loop:\n",
    "        ids = data['input_ids'].to(device, dtype = torch.long)\n",
    "        mask = data['attention_mask'].to(device, dtype = torch.long)\n",
    "        token_type_ids = data['token_type_ids'].to(device, dtype = torch.long)\n",
    "        targets = data['targets'].to(device, dtype = torch.float)\n",
    "\n",
    "        # forward\n",
    "        outputs = model(ids, mask, token_type_ids) # (batch,predict)=(32,8)\n",
    "        loss = loss_fn(outputs, targets)\n",
    "        losses.append(loss.item())\n",
    "        # training accuracy, apply sigmoid, round (apply thresh 0.5)\n",
    "        outputs = torch.sigmoid(outputs).cpu().detach().numpy().round()\n",
    "        targets = targets.cpu().detach().numpy()\n",
    "        correct_predictions += np.sum(outputs==targets)\n",
    "        num_samples += targets.size   # total number of elements in the 2D array\n",
    "\n",
    "        # backward\n",
    "        optimizer.zero_grad()\n",
    "        loss.backward()\n",
    "        nn.utils.clip_grad_norm_(model.parameters(), max_norm=1.0)\n",
    "        # grad descent step\n",
    "        optimizer.step()\n",
    "\n",
    "        # Update progress bar\n",
    "        #loop.set_description(f\"\")\n",
    "        #loop.set_postfix(batch_loss=loss)\n",
    "\n",
    "    # returning: trained model, model accuracy, mean loss\n",
    "    return model, float(correct_predictions)/num_samples, np.mean(losses)"
   ]
  },
  {
   "cell_type": "code",
   "execution_count": 293,
   "id": "09ca440a-2754-4650-95f2-e30ab0e051f2",
   "metadata": {},
   "outputs": [],
   "source": [
    "def eval_model(validation_loader, model, optimizer):\n",
    "    losses = []\n",
    "    correct_predictions = 0\n",
    "    num_samples = 0\n",
    "    # set model to eval mode (turn off dropout, fix batch norm)\n",
    "    model.eval()\n",
    "\n",
    "    with torch.no_grad():\n",
    "        for batch_idx, data in enumerate(validation_loader, 0):\n",
    "            ids = data['input_ids'].to(device, dtype = torch.long)\n",
    "            mask = data['attention_mask'].to(device, dtype = torch.long)\n",
    "            token_type_ids = data['token_type_ids'].to(device, dtype = torch.long)\n",
    "            targets = data['targets'].to(device, dtype = torch.float)\n",
    "            outputs = model(ids, mask, token_type_ids)\n",
    "\n",
    "            loss = loss_fn(outputs, targets)\n",
    "            losses.append(loss.item())\n",
    "\n",
    "            # validation accuracy\n",
    "            # add sigmoid, for the training sigmoid is in BCEWithLogitsLoss\n",
    "            outputs = torch.sigmoid(outputs).cpu().detach().numpy().round()\n",
    "            targets = targets.cpu().detach().numpy()\n",
    "            correct_predictions += np.sum(outputs==targets)\n",
    "            num_samples += targets.size   # total number of elements in the 2D array\n",
    "\n",
    "    return float(correct_predictions)/num_samples, np.mean(losses)"
   ]
  },
  {
   "cell_type": "markdown",
   "id": "cbd7d930-ac86-4364-a9f4-195a254e87e3",
   "metadata": {},
   "source": [
    "#Model Training"
   ]
  },
  {
   "cell_type": "code",
   "execution_count": 294,
   "id": "8996a262-e01a-4ea2-a92f-8085aae0307b",
   "metadata": {
    "scrolled": true
   },
   "outputs": [
    {
     "name": "stdout",
     "output_type": "stream",
     "text": [
      "Epoch 1/10\n"
     ]
    },
    {
     "data": {
      "application/vnd.jupyter.widget-view+json": {
       "model_id": "724f7bb6f32544fca051ccc384fc0dc2",
       "version_major": 2,
       "version_minor": 0
      },
      "text/plain": [
       "  0%|          | 0/15 [00:00<?, ?it/s]"
      ]
     },
     "metadata": {},
     "output_type": "display_data"
    },
    {
     "name": "stdout",
     "output_type": "stream",
     "text": [
      "train_loss=3.1030, val_loss=3.3261 train_acc=0.5730, val_acc=0.6574\n",
      "Epoch 2/10\n"
     ]
    },
    {
     "data": {
      "application/vnd.jupyter.widget-view+json": {
       "model_id": "80248aca525542e0ac607137a315084f",
       "version_major": 2,
       "version_minor": 0
      },
      "text/plain": [
       "  0%|          | 0/15 [00:00<?, ?it/s]"
      ]
     },
     "metadata": {},
     "output_type": "display_data"
    },
    {
     "name": "stdout",
     "output_type": "stream",
     "text": [
      "train_loss=2.8803, val_loss=3.1710 train_acc=0.6460, val_acc=0.6338\n",
      "Epoch 3/10\n"
     ]
    },
    {
     "data": {
      "application/vnd.jupyter.widget-view+json": {
       "model_id": "223bffe055d4405c87539b20b8db667b",
       "version_major": 2,
       "version_minor": 0
      },
      "text/plain": [
       "  0%|          | 0/15 [00:00<?, ?it/s]"
      ]
     },
     "metadata": {},
     "output_type": "display_data"
    },
    {
     "name": "stdout",
     "output_type": "stream",
     "text": [
      "train_loss=2.7123, val_loss=2.9229 train_acc=0.6406, val_acc=0.6684\n",
      "Epoch 4/10\n"
     ]
    },
    {
     "data": {
      "application/vnd.jupyter.widget-view+json": {
       "model_id": "a7df41e3f91e4e03b497d64495bf042f",
       "version_major": 2,
       "version_minor": 0
      },
      "text/plain": [
       "  0%|          | 0/15 [00:00<?, ?it/s]"
      ]
     },
     "metadata": {},
     "output_type": "display_data"
    },
    {
     "name": "stdout",
     "output_type": "stream",
     "text": [
      "train_loss=2.3446, val_loss=2.6629 train_acc=0.6920, val_acc=0.7205\n",
      "Epoch 5/10\n"
     ]
    },
    {
     "data": {
      "application/vnd.jupyter.widget-view+json": {
       "model_id": "d0adc43b8c5245c29bdc20d327ec5461",
       "version_major": 2,
       "version_minor": 0
      },
      "text/plain": [
       "  0%|          | 0/15 [00:00<?, ?it/s]"
      ]
     },
     "metadata": {},
     "output_type": "display_data"
    },
    {
     "name": "stdout",
     "output_type": "stream",
     "text": [
      "train_loss=2.0674, val_loss=2.4876 train_acc=0.7324, val_acc=0.7710\n",
      "Epoch 6/10\n"
     ]
    },
    {
     "data": {
      "application/vnd.jupyter.widget-view+json": {
       "model_id": "f323938450ab4deba9fb025dccc38a43",
       "version_major": 2,
       "version_minor": 0
      },
      "text/plain": [
       "  0%|          | 0/15 [00:00<?, ?it/s]"
      ]
     },
     "metadata": {},
     "output_type": "display_data"
    },
    {
     "name": "stdout",
     "output_type": "stream",
     "text": [
      "train_loss=1.8351, val_loss=2.3578 train_acc=0.7516, val_acc=0.7677\n",
      "Epoch 7/10\n"
     ]
    },
    {
     "data": {
      "application/vnd.jupyter.widget-view+json": {
       "model_id": "2d5fae375c0c488dbd031e981db190f9",
       "version_major": 2,
       "version_minor": 0
      },
      "text/plain": [
       "  0%|          | 0/15 [00:00<?, ?it/s]"
      ]
     },
     "metadata": {},
     "output_type": "display_data"
    },
    {
     "name": "stdout",
     "output_type": "stream",
     "text": [
      "train_loss=1.6241, val_loss=2.2252 train_acc=0.7656, val_acc=0.7786\n",
      "Epoch 8/10\n"
     ]
    },
    {
     "data": {
      "application/vnd.jupyter.widget-view+json": {
       "model_id": "54dc932cac7b48c6ae63b4477b929948",
       "version_major": 2,
       "version_minor": 0
      },
      "text/plain": [
       "  0%|          | 0/15 [00:00<?, ?it/s]"
      ]
     },
     "metadata": {},
     "output_type": "display_data"
    },
    {
     "name": "stdout",
     "output_type": "stream",
     "text": [
      "train_loss=1.4363, val_loss=2.0772 train_acc=0.7632, val_acc=0.7736\n",
      "Epoch 9/10\n"
     ]
    },
    {
     "data": {
      "application/vnd.jupyter.widget-view+json": {
       "model_id": "e366f7440c774311bf1835f9e37d21fd",
       "version_major": 2,
       "version_minor": 0
      },
      "text/plain": [
       "  0%|          | 0/15 [00:00<?, ?it/s]"
      ]
     },
     "metadata": {},
     "output_type": "display_data"
    },
    {
     "name": "stdout",
     "output_type": "stream",
     "text": [
      "train_loss=1.2819, val_loss=2.0473 train_acc=0.7734, val_acc=0.7652\n",
      "Epoch 10/10\n"
     ]
    },
    {
     "data": {
      "application/vnd.jupyter.widget-view+json": {
       "model_id": "206fded65fb64e1abf964929b82da9bf",
       "version_major": 2,
       "version_minor": 0
      },
      "text/plain": [
       "  0%|          | 0/15 [00:00<?, ?it/s]"
      ]
     },
     "metadata": {},
     "output_type": "display_data"
    },
    {
     "name": "stdout",
     "output_type": "stream",
     "text": [
      "train_loss=1.1641, val_loss=2.0404 train_acc=0.7712, val_acc=0.7727\n"
     ]
    }
   ],
   "source": [
    "import os\n",
    "\n",
    "history = defaultdict(list)\n",
    "best_accuracy = 0\n",
    "best_model = None\n",
    "\n",
    "for epoch in range(1, EPOCHS + 1):\n",
    "    print(f'Epoch {epoch}/{EPOCHS}')\n",
    "    model, train_acc, train_loss = train_model(train_data_loader, model, optimizer)\n",
    "    val_acc, val_loss = eval_model(val_data_loader, model, optimizer)\n",
    "\n",
    "    print(f'train_loss={train_loss:.4f}, val_loss={val_loss:.4f} train_acc={train_acc:.4f}, val_acc={val_acc:.4f}')\n",
    "\n",
    "    history['train_acc'].append(train_acc)\n",
    "    history['train_loss'].append(train_loss)\n",
    "    history['val_acc'].append(val_acc)\n",
    "    history['val_loss'].append(val_loss)\n",
    "\n",
    "    # Save the model for the current epoch\n",
    "    model_name = f\"TaiwanPetitions-{epoch}epoch{'s' if epoch > 1 else ''}\"\n",
    "    torch.save(model.state_dict(), model_name) \n"
   ]
  },
  {
   "cell_type": "code",
   "execution_count": 295,
   "id": "8c6e67d8-4c6d-4165-add4-dc48ed0db2a0",
   "metadata": {},
   "outputs": [
    {
     "name": "stderr",
     "output_type": "stream",
     "text": [
      "Some weights of BertModel were not initialized from the model checkpoint at ZhangQianML/CnPBERT and are newly initialized: ['bert.pooler.dense.bias', 'bert.pooler.dense.weight']\n",
      "You should probably TRAIN this model on a down-stream task to be able to use it for predictions and inference.\n",
      "C:\\Users\\danil\\AppData\\Local\\Temp\\ipykernel_28344\\1390497093.py:3: FutureWarning: You are using `torch.load` with `weights_only=False` (the current default value), which uses the default pickle module implicitly. It is possible to construct malicious pickle data which will execute arbitrary code during unpickling (See https://github.com/pytorch/pytorch/blob/main/SECURITY.md#untrusted-models for more details). In a future release, the default value for `weights_only` will be flipped to `True`. This limits the functions that could be executed during unpickling. Arbitrary objects will no longer be allowed to be loaded via this mode unless they are explicitly allowlisted by the user via `torch.serialization.add_safe_globals`. We recommend you start setting `weights_only=True` for any use case where you don't have full control of the loaded file. Please open an issue on GitHub for any issues related to this experimental feature.\n",
      "  model.load_state_dict(torch.load('TaiwanPetitions-10epochs'))\n"
     ]
    }
   ],
   "source": [
    "# Loading the best model\n",
    "model = BERTClass()\n",
    "model.load_state_dict(torch.load('TaiwanPetitions-10epochs'))\n",
    "model = model.to(device)"
   ]
  },
  {
   "cell_type": "code",
   "execution_count": 296,
   "id": "0cf89d22-9787-49c0-84d4-98814c9d9c90",
   "metadata": {},
   "outputs": [
    {
     "data": {
      "image/png": "[encoded data removed]",
      "text/plain": [
       "<Figure size 1000x800 with 1 Axes>"
      ]
     },
     "metadata": {},
     "output_type": "display_data"
    },
    {
     "data": {
      "image/png": "[encoded data removed]",
      "text/plain": [
       "<Figure size 1000x800 with 1 Axes>"
      ]
     },
     "metadata": {},
     "output_type": "display_data"
    }
   ],
   "source": [
    "import matplotlib.pyplot as plt\n",
    "\n",
    "plt.rcParams[\"figure.figsize\"] = (10, 8)\n",
    "plt.plot(history['train_acc'], label='train accuracy')\n",
    "plt.plot(history['val_acc'], label='validation accuracy')\n",
    "plt.title('Training history')\n",
    "plt.ylabel('Accuracy')\n",
    "plt.xlabel('Epoch')\n",
    "plt.legend()\n",
    "plt.ylim([0, 1])\n",
    "plt.grid()\n",
    "\n",
    "plt.figure(figsize=(10, 8))\n",
    "plt.plot(history['train_loss'], label='train loss')\n",
    "plt.plot(history['val_loss'], label='validation loss')\n",
    "plt.title('Training history')\n",
    "plt.ylabel('Loss')\n",
    "plt.xlabel('Epoch')\n",
    "plt.legend()\n",
    "plt.grid()\n",
    "\n",
    "plt.show()"
   ]
  },
  {
   "cell_type": "code",
   "execution_count": 297,
   "id": "403e05ec-526b-49c3-8ee9-0e5010f89e98",
   "metadata": {},
   "outputs": [
    {
     "data": {
      "text/plain": [
       "0.765993265993266"
      ]
     },
     "execution_count": 297,
     "metadata": {},
     "output_type": "execute_result"
    }
   ],
   "source": [
    "# Evaluate the model using the test data\n",
    "test_acc, test_loss = eval_model(test_data_loader, model, optimizer)\n",
    "test_acc"
   ]
  },
  {
   "cell_type": "code",
   "execution_count": 298,
   "id": "67755840-044b-463a-92c2-3c95346829ac",
   "metadata": {},
   "outputs": [],
   "source": [
    "\n",
    "train_dataset = CustomDataset(df_train, tokenizer, MAX_LEN, target_list)\n",
    "valid_dataset = CustomDataset(df_valid, tokenizer, MAX_LEN, target_list)\n",
    "test_dataset = CustomDataset(df_test, tokenizer, MAX_LEN, target_list)\n",
    "# Data loaders\n",
    "train_data_loader = torch.utils.data.DataLoader(train_dataset, \n",
    "    batch_size=TRAIN_BATCH_SIZE,\n",
    "    shuffle=True,\n",
    "    num_workers=0\n",
    ")\n",
    "\n",
    "val_data_loader = torch.utils.data.DataLoader(valid_dataset, \n",
    "    batch_size=VALID_BATCH_SIZE,\n",
    "    shuffle=False,\n",
    "    num_workers=0\n",
    ")\n",
    "\n",
    "test_data_loader = torch.utils.data.DataLoader(test_dataset, \n",
    "    batch_size=TEST_BATCH_SIZE,\n",
    "    shuffle=False,\n",
    "    num_workers=0\n",
    ")\n",
    "\n"
   ]
  },
  {
   "cell_type": "code",
   "execution_count": 305,
   "id": "1c8cca5a-1f8b-4574-9ff4-3b21e38de5b0",
   "metadata": {},
   "outputs": [],
   "source": [
    "#To ensure that only the top three classes with the highest scores and above the threshold are assigned a value of 1\n",
    "\n",
    "def get_predictions(model, data_loader, threshold=0.8, top_k=2):\n",
    "    \"\"\"\n",
    "    Outputs:\n",
    "      predictions - \n",
    "    \"\"\"\n",
    "    model = model.eval()\n",
    "    \n",
    "    titles = []\n",
    "    predictions = []\n",
    "    prediction_probs = []\n",
    "    target_values = []\n",
    "\n",
    "    with torch.no_grad():\n",
    "        for data in data_loader:\n",
    "            title = data[\"title\"]\n",
    "            ids = data[\"input_ids\"].to(device, dtype=torch.long)\n",
    "            mask = data[\"attention_mask\"].to(device, dtype=torch.long)\n",
    "            token_type_ids = data['token_type_ids'].to(device, dtype=torch.long)\n",
    "            targets = data[\"targets\"].to(device, dtype=torch.float)\n",
    "\n",
    "            outputs = model(ids, mask, token_type_ids)\n",
    "            # add sigmoid, for the training sigmoid is in BCEWithLogitsLoss\n",
    "            outputs = torch.sigmoid(outputs).detach().cpu()\n",
    "\n",
    "            # Find indices of values above the threshold\n",
    "            above_threshold = outputs > threshold\n",
    "\n",
    "            # Get the indices of the top k values among those above the threshold\n",
    "            topk_indices = torch.topk(outputs * above_threshold, k=top_k, dim=1).indices\n",
    "\n",
    "            # Create a binary tensor with 1s at the top k indices\n",
    "            preds = torch.zeros_like(outputs)\n",
    "            preds.scatter_(1, topk_indices, 1)\n",
    "\n",
    "            titles.extend(title)\n",
    "            predictions.extend(preds)\n",
    "            prediction_probs.extend(outputs)\n",
    "            target_values.extend(targets)\n",
    "\n",
    "    predictions = torch.stack(predictions)\n",
    "    prediction_probs = torch.stack(prediction_probs)\n",
    "    target_values = torch.stack(target_values)\n",
    "\n",
    "    return titles, predictions, prediction_probs, target_values\n",
    "\n",
    "\n",
    "titles, predictions, prediction_probs, target_values = get_predictions(model, test_data_loader)\n",
    "\n"
   ]
  },
  {
   "cell_type": "code",
   "execution_count": 306,
   "id": "df9e94bb-b5f2-4ee8-b0db-876e416d888d",
   "metadata": {},
   "outputs": [
    {
     "name": "stdout",
     "output_type": "stream",
     "text": [
      "              precision    recall  f1-score   support\n",
      "\n",
      "         內政部       0.35      0.97      0.51        30\n",
      "         法務部       0.24      1.00      0.38         4\n",
      "         交通部       0.79      1.00      0.88        22\n",
      "         環境部       1.00      1.00      1.00         3\n",
      "       衛生福利部       0.94      0.74      0.83        23\n",
      "         財政部       0.67      0.67      0.67         3\n",
      "         教育部       0.79      0.88      0.83        17\n",
      "         經濟部       0.33      0.33      0.33         3\n",
      "         勞動部       1.00      0.86      0.92         7\n",
      "         農業部       1.00      1.00      1.00         5\n",
      "   行政院人事行政總處       0.00      0.00      0.00         6\n",
      "          其余       0.50      0.31      0.38        16\n",
      "\n",
      "   micro avg       0.55      0.78      0.65       139\n",
      "   macro avg       0.63      0.73      0.65       139\n",
      "weighted avg       0.65      0.78      0.67       139\n",
      " samples avg       0.55      0.85      0.64       139\n",
      "\n"
     ]
    }
   ],
   "source": [
    "\n",
    "#out of 30 epochs model with 22 epochs was selected\n",
    "\n",
    "import torch\n",
    "from sklearn.metrics import classification_report\n",
    "\n",
    "# Assuming predictions and target_values are PyTorch tensors on the GPU\n",
    "predictions_cpu = predictions.cpu().numpy()\n",
    "target_values_cpu = target_values.cpu().numpy()\n",
    "\n",
    "# Now, you can use the classification_report function\n",
    "print(classification_report(target_values_cpu, predictions_cpu, target_names=target_list))"
   ]
  },
  {
   "cell_type": "code",
   "execution_count": 441,
   "id": "0502f1f9-520b-48b1-a2ac-78f2f9416ef0",
   "metadata": {},
   "outputs": [
    {
     "name": "stdout",
     "output_type": "stream",
     "text": [
      "Text: 反對新北市瑞芳區深澳電廠擴建反對新北市瑞芳區深澳電廠擴建台電和環評委員不能因發電而忽略北北基市民健康，這次深澳電等於是一個全新的燃煤電廠，不但引起許多環保團體、環保人士關注，也引發北北基市民對於健康及空汙的疑慮。基於對北北基市民未來健康，以及考慮未來推動綠能和乾淨能源等世界趨勢，籲請政府及台電勿一意孤行，枉置北北基市民健康於不顧。\n",
      "\n",
      "Actual Labels: ['環境部', '經濟部']\n",
      "\n",
      "Predicted Labels:\n",
      "環境部: 0.8780\n",
      "經濟部: 0.8373\n"
     ]
    }
   ],
   "source": [
    "# Get the text\n",
    "c= 50\n",
    "text = test_dataset[c]['title']\n",
    "\n",
    "# Get actual labels\n",
    "actual_indices = [i for i, val in enumerate(target_values[c]) if val == 1]\n",
    "actual_labels = [target_list[i] for i in actual_indices]\n",
    "\n",
    "# Get predicted labels\n",
    "threshold = 0.8\n",
    "predicted_indices = [i for i, val in enumerate(predictions[c]) if val == 1 and prediction_probs[c][i] > threshold]\n",
    "predicted_labels = [(target_list[i], prediction_probs[c][i].item()) for i in predicted_indices]\n",
    "\n",
    "# Print the formatted output\n",
    "print(f\"Text: {text}\\n\")\n",
    "print(f\"Actual Labels: {actual_labels}\\n\")\n",
    "print(\"Predicted Labels:\")\n",
    "for label, prob in predicted_labels:\n",
    "    print(f\"{label}: {prob:.4f}\")\n"
   ]
  },
  {
   "cell_type": "code",
   "execution_count": 307,
   "id": "382a76f4-e972-40ab-81bc-997d6ac5e1ed",
   "metadata": {},
   "outputs": [
    {
     "data": {
      "text/plain": [
       "0"
      ]
     },
     "execution_count": 307,
     "metadata": {},
     "output_type": "execute_result"
    }
   ],
   "source": [
    "import gc\n",
    "torch.cuda.empty_cache()\n",
    "gc.collect()"
   ]
  },
  {
   "cell_type": "code",
   "execution_count": null,
   "id": "5a6c5d93-dd58-4052-ade9-0b744d2b821a",
   "metadata": {},
   "outputs": [],
   "source": []
  },
  {
   "cell_type": "code",
   "execution_count": null,
   "id": "b5a7726b-c8bf-4de8-b2b8-8e7a570cf80b",
   "metadata": {},
   "outputs": [],
   "source": []
  },
  {
   "cell_type": "code",
   "execution_count": null,
   "id": "7e08ddd0-ed72-4479-afb4-afc07fa661bc",
   "metadata": {},
   "outputs": [],
   "source": []
  },
  {
   "cell_type": "code",
   "execution_count": null,
   "id": "21a4fe6a-ae9c-4256-9bb0-c889e43c2db8",
   "metadata": {},
   "outputs": [],
   "source": []
  },
  {
   "cell_type": "code",
   "execution_count": null,
   "id": "68196c85-345d-4a7b-bd10-613f93dc2b3b",
   "metadata": {},
   "outputs": [],
   "source": []
  },
  {
   "cell_type": "code",
   "execution_count": null,
   "id": "031c92db-5fad-4250-9680-3b2a744182d2",
   "metadata": {},
   "outputs": [],
   "source": []
  },
  {
   "cell_type": "code",
   "execution_count": null,
   "id": "c7e30360-a923-434a-bc54-538061426937",
   "metadata": {},
   "outputs": [],
   "source": []
  },
  {
   "cell_type": "code",
   "execution_count": null,
   "id": "ab382563-6a8f-4576-b0cc-01e0d60c7341",
   "metadata": {},
   "outputs": [],
   "source": []
  },
  {
   "cell_type": "code",
   "execution_count": null,
   "id": "fb3ff714-e07d-4ac8-b053-0c921e51086c",
   "metadata": {},
   "outputs": [],
   "source": []
  },
  {
   "cell_type": "code",
   "execution_count": null,
   "id": "2fb0193f-f142-49fb-8992-0f852c955917",
   "metadata": {},
   "outputs": [],
   "source": []
  },
  {
   "cell_type": "code",
   "execution_count": null,
   "id": "78adf02f-ea2c-4d9c-8552-1fb30bed8622",
   "metadata": {},
   "outputs": [],
   "source": []
  }
 ],
 "metadata": {
  "kernelspec": {
   "display_name": "Python 3 (ipykernel)",
   "language": "python",
   "name": "python3"
  },
  "language_info": {
   "codemirror_mode": {
    "name": "ipython",
    "version": 3
   },
   "file_extension": ".py",
   "mimetype": "text/x-python",
   "name": "python",
   "nbconvert_exporter": "python",
   "pygments_lexer": "ipython3",
   "version": "3.9.20"
  }
 },
 "nbformat": 4,
 "nbformat_minor": 5
}
